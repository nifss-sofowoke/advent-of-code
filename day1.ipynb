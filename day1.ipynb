{
 "cells": [
  {
   "cell_type": "markdown",
   "metadata": {},
   "source": [
    "Identify the variables"
   ]
  },
  {
   "cell_type": "code",
   "execution_count": null,
   "metadata": {},
   "outputs": [],
   "source": [
    "left_list = list()\n",
    "right_list = []"
   ]
  },
  {
   "cell_type": "markdown",
   "metadata": {},
   "source": [
    "Use a python library to open the text file containing the input"
   ]
  },
  {
   "cell_type": "code",
   "execution_count": null,
   "metadata": {},
   "outputs": [],
   "source": [
    "with open('day1_input.txt', 'r') as file:\n",
    "    # Read the file line by line\n",
    "    for line in file:\n",
    "        line_list = line.split('   ')\n",
    "        left_list.append(int(line_list[0])) \n",
    "        # converting the string to an integer\n",
    "        right_list.append(int(line_list[1]))"
   ]
  },
  {
   "cell_type": "markdown",
   "metadata": {},
   "source": [
    "Sort list to ascending order"
   ]
  },
  {
   "cell_type": "code",
   "execution_count": null,
   "metadata": {},
   "outputs": [],
   "source": [
    "left_list.sort()\n",
    "right_list.sort()"
   ]
  },
  {
   "cell_type": "markdown",
   "metadata": {},
   "source": [
    "Subtract the values on the L & R, and add the difference"
   ]
  },
  {
   "cell_type": "code",
   "execution_count": null,
   "metadata": {},
   "outputs": [],
   "source": [
    "for x in range(len(left_list)):\n",
    "    difference_in_value = abs(left_list[x] - right_list [x])\n",
    "    result += difference_in_value\n",
    "\n",
    "import pdb; pdb.set_trace()"
   ]
  }
 ],
 "metadata": {
  "language_info": {
   "name": "python"
  }
 },
 "nbformat": 4,
 "nbformat_minor": 2
}
